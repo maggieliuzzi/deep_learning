{
  "nbformat": 4,
  "nbformat_minor": 0,
  "metadata": {
    "colab": {
      "name": "DeepLearning.ipynb",
      "provenance": []
    },
    "kernelspec": {
      "name": "python3",
      "display_name": "Python 3"
    }
  },
  "cells": [
    {
      "cell_type": "markdown",
      "metadata": {
        "id": "YA8SILCOqoZd",
        "colab_type": "text"
      },
      "source": [
        "**Imports**"
      ]
    },
    {
      "cell_type": "code",
      "metadata": {
        "id": "6ao4-6AOm5F9",
        "colab_type": "code",
        "colab": {
          "base_uri": "https://localhost:8080/",
          "height": 34
        },
        "outputId": "a4b11729-89ad-4926-9fae-5eda6b537f94"
      },
      "source": [
        "import json\n",
        "import matplotlib.pyplot as plt\n",
        "import numpy as np\n",
        "import pandas as pd\n",
        "import tensorflow as tf\n",
        "print(tf.__version__)"
      ],
      "execution_count": 37,
      "outputs": [
        {
          "output_type": "stream",
          "text": [
            "2.2.0\n"
          ],
          "name": "stdout"
        }
      ]
    },
    {
      "cell_type": "markdown",
      "metadata": {
        "id": "Cg4Dk8HOqu7p",
        "colab_type": "text"
      },
      "source": [
        "**Sourcing Data**"
      ]
    },
    {
      "cell_type": "code",
      "metadata": {
        "id": "gYN1j9KKo6X_",
        "colab_type": "code",
        "colab": {
          "base_uri": "https://localhost:8080/",
          "height": 255
        },
        "outputId": "19ae6fb8-b4df-4ee1-f1d6-d9a5830f275f"
      },
      "source": [
        "!pwd\n",
        "!ls\n",
        "!ls -lh\n",
        "!ls sample_data\n",
        "!ls sample_data -lh\n",
        "\n",
        "# !wget <path_to_downloadable_dataset>  # downloads to current dir\n",
        "\n",
        "# json.loads(open('<path_to.json>').read())\n",
        "\n",
        "# url = 'https://archive.ics.uci.edu/ml/machine-learning-databases/auto-mpg/auto-mpg.data'\n",
        "# tf.keras.utils.get_file('auto-mpg.data', url)\n",
        "\n",
        "# from google.colab import files\n",
        "# uploaded = files.upload()  # uploads to current dir\n",
        "# eg: if I uploaded utils.py: from utils import my_useful_function; my_useful_function()\n",
        "# files.download('model.h5')\n",
        "\n",
        "# from google.colab import drive\n",
        "# drive.mount('/content/gdrive')\n",
        "# !ls gdrive; !ls '/content/gdrive/My Drive/'\n",
        "\n",
        "# from sklearn.datasets import load_breast_cancer\n",
        "# data = load_breast_cancer()  # type: sklearn.utils.Bunch; data.keys(); shape of x: data.data.shape, y: data.target.shape"
      ],
      "execution_count": 81,
      "outputs": [
        {
          "output_type": "stream",
          "text": [
            "/content\n",
            "sample_data\n",
            "total 4.0K\n",
            "drwxr-xr-x 1 root root 4.0K May 13 16:29 sample_data\n",
            "anscombe.json\t\t      mnist_test.csv\n",
            "california_housing_test.csv   mnist_train_small.csv\n",
            "california_housing_train.csv  README.md\n",
            "total 55M\n",
            "-rwxr-xr-x 1 root root 1.7K Jan  1  2000 anscombe.json\n",
            "-rw-r--r-- 1 root root 295K May 13 16:29 california_housing_test.csv\n",
            "-rw-r--r-- 1 root root 1.7M May 13 16:29 california_housing_train.csv\n",
            "-rw-r--r-- 1 root root  18M May 13 16:29 mnist_test.csv\n",
            "-rw-r--r-- 1 root root  35M May 13 16:29 mnist_train_small.csv\n",
            "-rwxr-xr-x 1 root root  930 Jan  1  2000 README.md\n"
          ],
          "name": "stdout"
        }
      ]
    },
    {
      "cell_type": "markdown",
      "metadata": {
        "id": "yzJ43vi5q0VL",
        "colab_type": "text"
      },
      "source": [
        "**Analysing Data**"
      ]
    },
    {
      "cell_type": "code",
      "metadata": {
        "id": "DURaH5HXqf9A",
        "colab_type": "code",
        "colab": {
          "base_uri": "https://localhost:8080/",
          "height": 204
        },
        "outputId": "8c9312bb-c8c5-4839-e8e7-1cc546edc84e"
      },
      "source": [
        "# !head sample_data/mnist_train_small.csv\n",
        "# !head /root/.keras/datasets/auto-mpg.data\n",
        "# !tail sample_data/anscombe.json\n",
        "df = pd.read_csv('sample_data/california_housing_test.csv', header=None)  # delim_whitespace=True, error_bad_lines=False\n",
        "data = df[[0,1,2,3]]  # loading certain columns\n",
        "data.columns = [df[0][0], df[1][0], df[2][0], df[3][0]] # 'col5', 'col6']  # naming them according to documentation\n",
        "# !head sample_data/california_housing_test.csv\n",
        "data = data.drop(df.index[0])  # dropping row by number\n",
        "data.head()"
      ],
      "execution_count": 74,
      "outputs": [
        {
          "output_type": "execute_result",
          "data": {
            "text/html": [
              "<div>\n",
              "<style scoped>\n",
              "    .dataframe tbody tr th:only-of-type {\n",
              "        vertical-align: middle;\n",
              "    }\n",
              "\n",
              "    .dataframe tbody tr th {\n",
              "        vertical-align: top;\n",
              "    }\n",
              "\n",
              "    .dataframe thead th {\n",
              "        text-align: right;\n",
              "    }\n",
              "</style>\n",
              "<table border=\"1\" class=\"dataframe\">\n",
              "  <thead>\n",
              "    <tr style=\"text-align: right;\">\n",
              "      <th></th>\n",
              "      <th>longitude</th>\n",
              "      <th>latitude</th>\n",
              "      <th>housing_median_age</th>\n",
              "      <th>total_rooms</th>\n",
              "    </tr>\n",
              "  </thead>\n",
              "  <tbody>\n",
              "    <tr>\n",
              "      <th>1</th>\n",
              "      <td>-122.050000</td>\n",
              "      <td>37.370000</td>\n",
              "      <td>27.000000</td>\n",
              "      <td>3885.000000</td>\n",
              "    </tr>\n",
              "    <tr>\n",
              "      <th>2</th>\n",
              "      <td>-118.300000</td>\n",
              "      <td>34.260000</td>\n",
              "      <td>43.000000</td>\n",
              "      <td>1510.000000</td>\n",
              "    </tr>\n",
              "    <tr>\n",
              "      <th>3</th>\n",
              "      <td>-117.810000</td>\n",
              "      <td>33.780000</td>\n",
              "      <td>27.000000</td>\n",
              "      <td>3589.000000</td>\n",
              "    </tr>\n",
              "    <tr>\n",
              "      <th>4</th>\n",
              "      <td>-118.360000</td>\n",
              "      <td>33.820000</td>\n",
              "      <td>28.000000</td>\n",
              "      <td>67.000000</td>\n",
              "    </tr>\n",
              "    <tr>\n",
              "      <th>5</th>\n",
              "      <td>-119.670000</td>\n",
              "      <td>36.330000</td>\n",
              "      <td>19.000000</td>\n",
              "      <td>1241.000000</td>\n",
              "    </tr>\n",
              "  </tbody>\n",
              "</table>\n",
              "</div>"
            ],
            "text/plain": [
              "     longitude   latitude housing_median_age  total_rooms\n",
              "1  -122.050000  37.370000          27.000000  3885.000000\n",
              "2  -118.300000  34.260000          43.000000  1510.000000\n",
              "3  -117.810000  33.780000          27.000000  3589.000000\n",
              "4  -118.360000  33.820000          28.000000    67.000000\n",
              "5  -119.670000  36.330000          19.000000  1241.000000"
            ]
          },
          "metadata": {
            "tags": []
          },
          "execution_count": 74
        }
      ]
    },
    {
      "cell_type": "code",
      "metadata": {
        "id": "kF5bo8-Eszmf",
        "colab_type": "code",
        "colab": {}
      },
      "source": [
        "plt.rcParams['figure.figsize'] = [15, 15] # make the plot bigger so the subplots don't overlap\n",
        "# data.hist(); # use a semicolon to supress return value"
      ],
      "execution_count": 0,
      "outputs": []
    },
    {
      "cell_type": "code",
      "metadata": {
        "id": "QDhdPQZAuKba",
        "colab_type": "code",
        "colab": {}
      },
      "source": [
        "from pandas.plotting import scatter_matrix\n",
        "# scatter_matrix(data);"
      ],
      "execution_count": 0,
      "outputs": []
    },
    {
      "cell_type": "markdown",
      "metadata": {
        "id": "g1YbUjKirQ51",
        "colab_type": "text"
      },
      "source": [
        "**Creating Data**"
      ]
    },
    {
      "cell_type": "code",
      "metadata": {
        "id": "JVIvAd6yovig",
        "colab_type": "code",
        "colab": {
          "base_uri": "https://localhost:8080/",
          "height": 282
        },
        "outputId": "be231d51-4237-4009-d3a6-a60a39730164"
      },
      "source": [
        "x = np.linspace(0, 10*np.pi, 1000)  # start (x axis), stop (x axis), num\n",
        "# y = 2*x\n",
        "y = np.sin(x)\n",
        "plt.plot(x,y)"
      ],
      "execution_count": 24,
      "outputs": [
        {
          "output_type": "execute_result",
          "data": {
            "text/plain": [
              "[<matplotlib.lines.Line2D at 0x7f7c3b463208>]"
            ]
          },
          "metadata": {
            "tags": []
          },
          "execution_count": 24
        },
        {
          "output_type": "display_data",
          "data": {
            "image/png": "[encoded data removed]",
            "text/plain": [
              "<Figure size 432x288 with 1 Axes>"
            ]
          },
          "metadata": {
            "tags": [],
            "needs_background": "light"
          }
        }
      ]
    },
    {
      "cell_type": "code",
      "metadata": {
        "id": "B0ZrizTfqLTf",
        "colab_type": "code",
        "colab": {
          "base_uri": "https://localhost:8080/",
          "height": 282
        },
        "outputId": "e092c4f6-3ba8-43d8-e332-85746ac7eb10"
      },
      "source": [
        "y = np.zeros(10)\n",
        "x = np.linspace(0, 10, 10, endpoint=True)\n",
        "plt.plot(x, y + 0.5, 'o')"
      ],
      "execution_count": 25,
      "outputs": [
        {
          "output_type": "execute_result",
          "data": {
            "text/plain": [
              "[<matplotlib.lines.Line2D at 0x7f7c3c19b7b8>]"
            ]
          },
          "metadata": {
            "tags": []
          },
          "execution_count": 25
        },
        {
          "output_type": "display_data",
          "data": {
            "image/png": "[encoded data removed]",
            "text/plain": [
              "<Figure size 432x288 with 1 Axes>"
            ]
          },
          "metadata": {
            "tags": [],
            "needs_background": "light"
          }
        }
      ]
    },
    {
      "cell_type": "code",
      "metadata": {
        "id": "CyIoZ-CwqSHW",
        "colab_type": "code",
        "colab": {
          "base_uri": "https://localhost:8080/",
          "height": 286
        },
        "outputId": "76fa4252-6ea4-4424-ea08-28a735fd339a"
      },
      "source": [
        "plt.ylim([-0.2, 0.4])\n",
        "plt.xlim([0, 0.4])"
      ],
      "execution_count": 32,
      "outputs": [
        {
          "output_type": "execute_result",
          "data": {
            "text/plain": [
              "(0.0, 0.4)"
            ]
          },
          "metadata": {
            "tags": []
          },
          "execution_count": 32
        },
        {
          "output_type": "display_data",
          "data": {
            "image/png": "[encoded data removed]",
            "text/plain": [
              "<Figure size 432x288 with 1 Axes>"
            ]
          },
          "metadata": {
            "tags": [],
            "needs_background": "light"
          }
        }
      ]
    }
  ]
}